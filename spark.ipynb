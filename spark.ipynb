{
 "cells": [
  {
   "cell_type": "code",
   "execution_count": 4,
   "metadata": {},
   "outputs": [],
   "source": [
    "import os, sys, json"
   ]
  },
  {
   "cell_type": "code",
   "execution_count": 5,
   "metadata": {},
   "outputs": [],
   "source": [
    "os.environ[\"JAVA_HOME\"] = \"/usr/lib/jvm/java-11-openjdk-amd64\"\n",
    "os.environ[\"HADOOP_INSTALL\"] = \"/home/hadoop/hadoop\"\n",
    "os.environ[\"HADOOP_HOME\"] = os.environ[\"HADOOP_INSTALL\"]\n",
    "os.environ[\"HADOOP_MAPRED_HOME\"] = os.environ[\"HADOOP_INSTALL\"]\n",
    "os.environ[\"HADOOP_COMMON_HOME\"] = os.environ[\"HADOOP_INSTALL\"]\n",
    "os.environ[\"HADOOP_HDFS_HOME\"] = os.environ[\"HADOOP_INSTALL\"]\n",
    "os.environ[\"HADOOP_YARN_HOME\"] = os.environ[\"HADOOP_INSTALL\"]\n",
    "os.environ[\"HADOOP_CONF_DIR\"] = os.path.join(os.environ[\"HADOOP_INSTALL\"], \"/etc/hadoop\")\n",
    "os.environ[\"SPARK_HOME\"] = \"/home/hadoop/spark\"\n",
    "sys.path.insert(0, os.path.join(os.environ[\"SPARK_HOME\"], \"python\"))\n",
    "sys.path.append(os.path.join(os.environ[\"SPARK_HOME\"], \"python/lib/py4j-0.10.9.2-src.zip\"))"
   ]
  },
  {
   "cell_type": "code",
   "execution_count": 6,
   "metadata": {},
   "outputs": [
    {
     "name": "stdout",
     "output_type": "stream",
     "text": [
      "http://192.168.121.62:4041\n"
     ]
    }
   ],
   "source": [
    "from pyspark.sql import SparkSession\n",
    "spark = SparkSession.builder \\\n",
    "    .appName(\"HelloLines\") \\\n",
    "    .config(\"spark.executor.instances\", \"2\") \\\n",
    "    .config(\"spark.executor.cores\", \"2\") \\\n",
    "    .config(\"spark.executor.memory\", \"1024M\") \\\n",
    "    .getOrCreate()\n",
    "sc = spark.sparkContext\n",
    "print(sc.uiWebUrl)"
   ]
  },
  {
   "cell_type": "code",
   "execution_count": 7,
   "metadata": {},
   "outputs": [],
   "source": [
    "def getDataFromHDFS(filePath):\n",
    "   try:\n",
    "      return spark.read.options(header='True').csv(filePath)\n",
    "   except Exception as e:\n",
    "      return -1"
   ]
  },
  {
   "cell_type": "code",
   "execution_count": 8,
   "metadata": {},
   "outputs": [],
   "source": [
    "rdd = sc.textFile(\"hdfs:/datasets/spotify/tracks.json\")"
   ]
  },
  {
   "cell_type": "code",
   "execution_count": 9,
   "metadata": {},
   "outputs": [
    {
     "name": "stderr",
     "output_type": "stream",
     "text": [
      "                                                                                \r"
     ]
    }
   ],
   "source": [
    "rdd2 = rdd.map(lambda x: json.loads(x))\n",
    "dfp = rdd2.toDF()"
   ]
  },
  {
   "cell_type": "markdown",
   "metadata": {},
   "source": [
    "1. Statistics about songs duration"
   ]
  },
  {
   "cell_type": "markdown",
   "metadata": {},
   "source": [
    "1.1 - Generate a table containing the minimum, average and maximum duration, in milliseconds, of the songs in the dataset."
   ]
  },
  {
   "cell_type": "code",
   "execution_count": 10,
   "metadata": {},
   "outputs": [
    {
     "name": "stdout",
     "output_type": "stream",
     "text": [
      "+----------------+------------------+----------------+\n",
      "|min(duration_ms)|  avg(duration_ms)|max(duration_ms)|\n",
      "+----------------+------------------+----------------+\n",
      "|               0|234408.54976216817|        10435467|\n",
      "+----------------+------------------+----------------+\n",
      "\n"
     ]
    }
   ],
   "source": [
    "aggregates = getDataFromHDFS('q1.1.csv')\n",
    "if aggregates == -1:\n",
    "    min = dfp.agg({ 'duration_ms' : 'min' })\n",
    "    avg = dfp.agg({ 'duration_ms' : 'avg' })\n",
    "    max = dfp.agg({ 'duration_ms' : 'max' })\n",
    "    aggregates = min.join(avg)\n",
    "    aggregates = aggregates.join(max)\n",
    "    aggregates.write.option(\"header\", True).csv('./q1.1.csv')\n",
    "aggregates.show()"
   ]
  },
  {
   "cell_type": "markdown",
   "metadata": {},
   "source": [
    "1.2 - Compute the first and third quartiles (denoted Q1​ and Q3​), as well as the interquartile range (IRQ) (Q3​−Q1​)."
   ]
  },
  {
   "cell_type": "code",
   "execution_count": 11,
   "metadata": {},
   "outputs": [
    {
     "name": "stderr",
     "output_type": "stream",
     "text": [
      "                                                                                \r"
     ]
    },
    {
     "data": {
      "text/plain": [
       "(198333.0, 258834.0)"
      ]
     },
     "execution_count": 11,
     "metadata": {},
     "output_type": "execute_result"
    }
   ],
   "source": [
    "quantiles = dfp.approxQuantile(\"duration_ms\", [0.25, 0.75], 0)\n",
    "q1, q3 = quantiles[0], quantiles[1]\n",
    "q1, q3"
   ]
  },
  {
   "cell_type": "markdown",
   "metadata": {},
   "source": [
    "1.3 - Compute the set of songs with durations that are not outliers, as defined by the IQRR methodology. In other words, identify all songs with duration xx such that Q1 − 1.5 × IQR < x < Q3 + 1.5 × IQR."
   ]
  },
  {
   "cell_type": "code",
   "execution_count": 12,
   "metadata": {},
   "outputs": [],
   "source": [
    "def iqr_outlier_treatment(df, factor=1.5):\n",
    "    iqr = q3 - q1\n",
    "    print(iqr)\n",
    "\n",
    "    # Define the upper and lower bounds for outliers\n",
    "    lower_bound = q1 - factor * iqr\n",
    "    upper_bound = q3 + factor * iqr\n",
    "    print(lower_bound, upper_bound)\n",
    "\n",
    "    df_not_outliers = df.filter((df[\"duration_ms\"] > lower_bound) & (df[\"duration_ms\"] < upper_bound))\n",
    "    df_outliers = df.subtract(df_not_outliers)\n",
    "\n",
    "    return df_not_outliers, df_outliers"
   ]
  },
  {
   "cell_type": "code",
   "execution_count": 13,
   "metadata": {},
   "outputs": [
    {
     "name": "stdout",
     "output_type": "stream",
     "text": [
      "60501.0\n",
      "107581.5 349585.5\n",
      "+--------------------+--------------------+------------------+--------------------+-----------+---+---+--------------------+--------------------+\n",
      "|          album_name|           album_uri|       artist_name|          artist_uri|duration_ms|pid|pos|          track_name|           track_uri|\n",
      "+--------------------+--------------------+------------------+--------------------+-----------+---+---+--------------------+--------------------+\n",
      "|        The Cookbook|spotify:album:6vV...|     Missy Elliott|spotify:artist:2w...|     226863|  0|  0|Lose Control (fea...|spotify:track:0Ua...|\n",
      "|         In The Zone|spotify:album:0z7...|    Britney Spears|spotify:artist:26...|     198800|  0|  1|               Toxic|spotify:track:6I9...|\n",
      "|Dangerously In Lo...|spotify:album:25h...|           Beyoncé|spotify:artist:6v...|     235933|  0|  2|       Crazy In Love|spotify:track:0Wq...|\n",
      "|           Justified|spotify:album:6QP...| Justin Timberlake|spotify:artist:31...|     267266|  0|  3|      Rock Your Body|spotify:track:1AW...|\n",
      "|            Hot Shot|spotify:album:6Nm...|            Shaggy|spotify:artist:5E...|     227600|  0|  4|        It Wasn't Me|spotify:track:1lz...|\n",
      "|         Confessions|spotify:album:0vO...|             Usher|spotify:artist:23...|     250373|  0|  5|               Yeah!|spotify:track:0XU...|\n",
      "|         Confessions|spotify:album:1RM...|             Usher|spotify:artist:23...|     223440|  0|  6|              My Boo|spotify:track:68v...|\n",
      "|                 PCD|spotify:album:5x8...|The Pussycat Dolls|spotify:artist:6w...|     225560|  0|  7|             Buttons|spotify:track:3Bx...|\n",
      "|The Writing's On ...|spotify:album:283...|   Destiny's Child|spotify:artist:1Y...|     271333|  0|  8|         Say My Name|spotify:track:7H6...|\n",
      "|Speakerboxxx/The ...|spotify:album:1Us...|           OutKast|spotify:artist:1G...|     235213|  0|  9|Hey Ya! - Radio M...|spotify:track:2Pp...|\n",
      "|               Loose|spotify:album:2yb...|     Nelly Furtado|spotify:artist:2j...|     242293|  0| 10|         Promiscuous|spotify:track:2ga...|\n",
      "|Right Where You W...|spotify:album:602...|   Jesse McCartney|spotify:artist:2H...|     211693|  0| 11|Right Where You W...|spotify:track:4Y4...|\n",
      "|      Beautiful Soul|spotify:album:2gi...|   Jesse McCartney|spotify:artist:2H...|     214226|  0| 12|      Beautiful Soul|spotify:track:1Hw...|\n",
      "|Departure - Recha...|spotify:album:2tD...|   Jesse McCartney|spotify:artist:2H...|     216880|  0| 13|             Leavin'|spotify:track:20O...|\n",
      "|              Cassie|spotify:album:0j1...|            Cassie|spotify:artist:27...|     192213|  0| 14|              Me & U|spotify:track:7k6...|\n",
      "|                  21|spotify:album:4cV...|           Omarion|spotify:artist:0f...|     256426|  0| 15|             Ice Box|spotify:track:1Bv...|\n",
      "|              Let Go|spotify:album:7h6...|     Avril Lavigne|spotify:artist:0p...|     204000|  0| 16|           Sk8er Boi|spotify:track:4om...|\n",
      "|         Chris Brown|spotify:album:49g...|       Chris Brown|spotify:artist:7b...|     229866|  0| 17|             Run It!|spotify:track:7xY...|\n",
      "|               B'Day|spotify:album:3MJ...|           Beyoncé|spotify:artist:6v...|     210453|  0| 18|Check On It - fea...|spotify:track:6d8...|\n",
      "|The Writing's On ...|spotify:album:283...|   Destiny's Child|spotify:artist:1Y...|     230200|  0| 19|    Jumpin', Jumpin'|spotify:track:4pm...|\n",
      "+--------------------+--------------------+------------------+--------------------+-----------+---+---+--------------------+--------------------+\n",
      "only showing top 20 rows\n",
      "\n"
     ]
    }
   ],
   "source": [
    "# not_outliers\n",
    "df_treated = iqr_outlier_treatment(dfp)\n",
    "df_not_outliers = df_treated[0]\n",
    "df_not_outliers.show()\n",
    "\n",
    "# not_outliers_aggregates = getDataFromHDFS('q1.3.csv')\n",
    "# if not_outliers_aggregates == -1:\n",
    "#     min = df_not_outliers.agg({ 'duration_ms' : 'min' })\n",
    "#     avg = df_not_outliers.agg({ 'duration_ms' : 'avg' })\n",
    "#     max = df_not_outliers.agg({ 'duration_ms' : 'max' })\n",
    "#     not_outliers_aggregates = min.join(avg)\n",
    "#     not_outliers_aggregates = not_outliers_aggregates.join(max)\n",
    "#     not_outliers_aggregates.write.option(\"header\", True).csv('./q1.3.csv')\n",
    "# not_outliers_aggregates.show()"
   ]
  },
  {
   "cell_type": "markdown",
   "metadata": {},
   "source": [
    "1.4 - Using the IQRR methodology, how many songs would be considered outliers and removed from analysis? Generate a new table containing the minimum, average and maximum duration of the remaining songs."
   ]
  },
  {
   "cell_type": "code",
   "execution_count": 14,
   "metadata": {},
   "outputs": [
    {
     "name": "stdout",
     "output_type": "stream",
     "text": [
      "+----------------+------------------+----------------+\n",
      "|min(duration_ms)|  avg(duration_ms)|max(duration_ms)|\n",
      "+----------------+------------------+----------------+\n",
      "|          107582|226899.35353939075|          349583|\n",
      "+----------------+------------------+----------------+\n",
      "\n"
     ]
    }
   ],
   "source": [
    "# outliers\n",
    "# df_outliers = df_treated[1]\n",
    "# df_outliers.count()\n",
    "\n",
    "not_outliers_aggregates = getDataFromHDFS('q1.3.csv')\n",
    "if not_outliers_aggregates == -1:\n",
    "    min = df_not_outliers.agg({ 'duration_ms' : 'min' })\n",
    "    avg = df_not_outliers.agg({ 'duration_ms' : 'avg' })\n",
    "    max = df_not_outliers.agg({ 'duration_ms' : 'max' })\n",
    "    not_outliers_aggregates = min.join(avg)\n",
    "    not_outliers_aggregates = not_outliers_aggregates.join(max)\n",
    "    not_outliers_aggregates.write.option(\"header\", True).csv('./q1.3.csv')\n",
    "not_outliers_aggregates.show()"
   ]
  },
  {
   "cell_type": "markdown",
   "metadata": {},
   "source": [
    "### 2. Finding the most popular artists over time\n",
    "Finding popular artists can be interesting to analyze user tendencies and to inform organizations preparing advertising campaigns. In this task, find the five most popular artists ranked by the number of playlists they appear in. Create a chart that shows the number of playlists containing each of these five artists over the years. Consider that an artist is present in a playlist after each playlist's last modification date."
   ]
  },
  {
   "cell_type": "code",
   "execution_count": 15,
   "metadata": {},
   "outputs": [
    {
     "data": {
      "text/plain": [
       "<matplotlib.legend.Legend at 0x7f45b8fb1640>"
      ]
     },
     "execution_count": 15,
     "metadata": {},
     "output_type": "execute_result"
    },
    {
     "data": {
      "image/png": "[encoded data removed]",
      "text/plain": [
       "<Figure size 640x480 with 1 Axes>"
      ]
     },
     "metadata": {},
     "output_type": "display_data"
    }
   ],
   "source": [
    "rdd3 = sc.textFile(\"hdfs:/datasets/spotify/playlist.json\")\n",
    "rdd3 = rdd3.map(lambda x: json.loads(x))\n",
    "dfplaylists = rdd3.toDF()\n",
    "\n",
    "dfsuper = dfp.withColumnRenamed('pid', 'pid_playlist')\n",
    "dfsuper = dfsuper.join(dfplaylists, dfsuper.pid_playlist == dfplaylists.pid, 'left')\n",
    "\n",
    "#most popular artists by the number of playlists they appear in\n",
    "\n",
    "from pyspark.sql.functions import countDistinct, col, year, from_unixtime\n",
    "\n",
    "dfartists = (dfsuper \\\n",
    "    .groupBy('artist_name', year(from_unixtime('modified_at')).alias('year')) \\\n",
    "    .agg(countDistinct('pid') \\\n",
    "    .alias('num_playlists')) \\\n",
    "    .orderBy(col('num_playlists').desc()))\n",
    "top_artists = [\"Drake\", \"Rihanna\", \"Kanye West\", \"The Weeknd\", \"Kendrick Lamar\"]\n",
    "top_artists_per_year = getDataFromHDFS('q2.csv')\n",
    "\n",
    "if top_artists_per_year == -1:\n",
    "    top_artists_per_year = dfartists \\\n",
    "        .filter(col('artist_name').isin(top_artists))\n",
    "    top_artists_per_year.write.option(\"header\", True).csv('./q2.csv')\n",
    "\n",
    "drake_yoy =  top_artists_per_year.where('artist_name=\"Drake\"').toPandas()\n",
    "rihanna_yoy = top_artists_per_year.where('artist_name=\"Rihanna\"').toPandas()\n",
    "kendrick_yoy = top_artists_per_year.where('artist_name=\"Kendrick Lamar\"').toPandas()\n",
    "kanye_yoy = top_artists_per_year.where('artist_name=\"Kanye West\"').toPandas()\n",
    "weeknd_yoy = top_artists_per_year.where('artist_name=\"The Weeknd\"').toPandas()\n",
    "\n",
    "import matplotlib.pyplot as plt\n",
    "plt.plot(drake_yoy['year'].astype(int), drake_yoy['num_playlists'].astype(int), label='Drake')\n",
    "plt.plot(rihanna_yoy['year'].astype(int), rihanna_yoy['num_playlists'].astype(int), label='Rihanna')\n",
    "plt.plot(kendrick_yoy['year'].astype(int), kendrick_yoy['num_playlists'].astype(int), label='Kendrick Lamar')\n",
    "plt.plot(kanye_yoy['year'].astype(int), kanye_yoy['num_playlists'].astype(int), label='Kanye West')\n",
    "plt.plot(weeknd_yoy['year'].astype(int), weeknd_yoy['num_playlists'].astype(int), label='The Weeknd')\n",
    "plt.title('Number of playlists cointaining top 5 artists over the years')\n",
    "plt.grid()\n",
    "plt.legend()"
   ]
  },
  {
   "cell_type": "code",
   "execution_count": 16,
   "metadata": {},
   "outputs": [],
   "source": [
    "#dfsuper.show()"
   ]
  },
  {
   "cell_type": "markdown",
   "metadata": {},
   "source": [
    "3. Playlists's behavior"
   ]
  },
  {
   "cell_type": "markdown",
   "metadata": {},
   "source": [
    "What is more common, playlists where there are many songs by the same artist or playlists with more diverse songs?"
   ]
  },
  {
   "cell_type": "code",
   "execution_count": 17,
   "metadata": {},
   "outputs": [],
   "source": [
    "from pyspark.sql.functions import *\n",
    "# playlists com mais musicas do mesmo artista vs playlists com mais musicas de artistas variados\n",
    "# tem um atributo com num_artists (the total number of unique artists for the tracks in the playlist)\n",
    "\n",
    "# groupBy pid da playlist, pelo artista e vê qnts musicas esse artista tem na playlist\n",
    "\n",
    "group_cols = [\"pid\", \"artist_name\"]\n",
    "# filtre pelas playlists pegando pelas com mais musica por artista/pegar o top artista mais frequente em cada playlist \n",
    "df_grouped = dfsuper.groupBy(group_cols).count().orderBy(desc(\"count\"),\"artist_name\")\n",
    "\n",
    "\n",
    "# prevalence = total de musicas/total de musicas do artista mais frequente\n",
    "# para cada artista no df_grouped pega num total de musicas na playlist/num de musicas do artista\n",
    "\n"
   ]
  },
  {
   "cell_type": "code",
   "execution_count": 18,
   "metadata": {},
   "outputs": [],
   "source": [
    "from pyspark.sql.window import Window\n",
    "\n",
    "w = Window().partitionBy(\"pid\").orderBy(desc(\"count\"))"
   ]
  },
  {
   "cell_type": "code",
   "execution_count": 19,
   "metadata": {},
   "outputs": [],
   "source": [
    "df_with_rank = (df_grouped.withColumn(\"rank\", dense_rank().over(w)))"
   ]
  },
  {
   "cell_type": "code",
   "execution_count": 20,
   "metadata": {},
   "outputs": [],
   "source": [
    "result = df_with_rank.where(col(\"rank\") == 1)"
   ]
  },
  {
   "cell_type": "code",
   "execution_count": 21,
   "metadata": {},
   "outputs": [
    {
     "data": {
      "text/plain": [
       "DataFrame[pid: bigint, artist_name: string, count: bigint, rank: int, tie: boolean]"
      ]
     },
     "execution_count": 21,
     "metadata": {},
     "output_type": "execute_result"
    }
   ],
   "source": [
    "import sys\n",
    "\n",
    "final_w = Window().partitionBy(\"pid\").rowsBetween(-sys.maxsize, sys.maxsize)\n",
    "result.withColumn(\"tie\", count(\"*\").over(final_w) != 1)\n",
    "#result.show()"
   ]
  },
  {
   "cell_type": "code",
   "execution_count": 28,
   "metadata": {},
   "outputs": [
    {
     "name": "stderr",
     "output_type": "stream",
     "text": [
      "[Stage 68:>                                                         (0 + 1) / 1]\r"
     ]
    },
    {
     "name": "stdout",
     "output_type": "stream",
     "text": [
      "+------------+--------------------+-----+----+--------------------+----------+--------------------+\n",
      "|pid_playlist|         artist_name|count|rank|                name|num_tracks|          prevalence|\n",
      "+------------+--------------------+-----+----+--------------------+----------+--------------------+\n",
      "|           0|     Jesse McCartney|    4|   1|          Throwbacks|        52| 0.07692307692307693|\n",
      "|           6|             Misfits|    3|   1|I Put A Spell On You|        16|              0.1875|\n",
      "|           7|                HAIM|    2|   1|                2017|        53| 0.03773584905660377|\n",
      "|           7|              Kiiara|    2|   1|                2017|        53| 0.03773584905660377|\n",
      "|           7|                Niia|    2|   1|                2017|        53| 0.03773584905660377|\n",
      "|           7|          Rudimental|    2|   1|                2017|        53| 0.03773584905660377|\n",
      "|           7|The Kite String T...|    2|   1|                2017|        53| 0.03773584905660377|\n",
      "|           9|       Merle Haggard|    2|   1|        old country |        21| 0.09523809523809523|\n",
      "|           9|Merle Haggard & T...|    2|   1|        old country |        21| 0.09523809523809523|\n",
      "|           9|       Willie Nelson|    2|   1|        old country |        21| 0.09523809523809523|\n",
      "|          19|          Nick Drake|    4|   1|          melancholy|        85|0.047058823529411764|\n",
      "|          22|                Russ|    3|   1|            fall '17|        42| 0.07142857142857142|\n",
      "|          25|       Keys N Krates|    3|   1|              run it|        41| 0.07317073170731707|\n",
      "|          25|              Tchami|    3|   1|              run it|        41| 0.07317073170731707|\n",
      "|          26|The New Basement ...|    4|   1|         Winter 2014|        26| 0.15384615384615385|\n",
      "|          29|           DJ Khaled|    2|   1|              groovy|        40|                0.05|\n",
      "|          31|      Ellie Goulding|    3|   1|         Running 2.0|        97|0.030927835051546393|\n",
      "|          31|                Kygo|    3|   1|         Running 2.0|        97|0.030927835051546393|\n",
      "|          32|  Rodrigo y Gabriela|   12|   1|            acoustic|       106| 0.11320754716981132|\n",
      "|          34|    The Chainsmokers|    4|   1|           good good|        80|                0.05|\n",
      "+------------+--------------------+-----+----+--------------------+----------+--------------------+\n",
      "only showing top 20 rows\n",
      "\n"
     ]
    },
    {
     "name": "stderr",
     "output_type": "stream",
     "text": [
      "                                                                                \r"
     ]
    }
   ],
   "source": [
    "prevalence = result.withColumnRenamed('pid', 'pid_playlist')\n",
    "prevalence = prevalence.join(dfplaylists, prevalence.pid_playlist == dfplaylists.pid, 'inner')\n",
    "prevalence = prevalence.select('pid_playlist', 'artist_name', 'count', 'rank', 'name', 'num_tracks')\n",
    "prevalence = prevalence.withColumn('prevalence', (col('count') / col('num_tracks')))\n",
    "prevalence.show()\n"
   ]
  },
  {
   "cell_type": "code",
   "execution_count": 35,
   "metadata": {},
   "outputs": [
    {
     "name": "stderr",
     "output_type": "stream",
     "text": [
      "                                                                                \r"
     ]
    },
    {
     "data": {
      "text/plain": [
       "[<matplotlib.lines.Line2D at 0x7f458f0c4ac0>]"
      ]
     },
     "execution_count": 35,
     "metadata": {},
     "output_type": "execute_result"
    },
    {
     "data": {
      "image/png": "[encoded data removed]",
      "text/plain": [
       "<Figure size 640x480 with 1 Axes>"
      ]
     },
     "metadata": {},
     "output_type": "display_data"
    }
   ],
   "source": [
    "prevalence_pd = prevalence.toPandas()\n",
    "plt.plot(prevalence_pd['prevalence'])"
   ]
  },
  {
   "cell_type": "code",
   "execution_count": null,
   "metadata": {},
   "outputs": [],
   "source": [
    "preva"
   ]
  }
 ],
 "metadata": {
  "kernelspec": {
   "display_name": "Python 3",
   "language": "python",
   "name": "python3"
  },
  "language_info": {
   "codemirror_mode": {
    "name": "ipython",
    "version": 3
   },
   "file_extension": ".py",
   "mimetype": "text/x-python",
   "name": "python",
   "nbconvert_exporter": "python",
   "pygments_lexer": "ipython3",
   "version": "3.9.2"
  }
 },
 "nbformat": 4,
 "nbformat_minor": 2
}
