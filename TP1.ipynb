{
 "cells": [
  {
   "cell_type": "code",
   "execution_count": 2,
   "id": "bed92c35-8679-4fee-871e-fc8901062e9b",
   "metadata": {},
   "outputs": [],
   "source": [
    "import os\n",
    "import sys\n",
    "import json"
   ]
  },
  {
   "cell_type": "code",
   "execution_count": 3,
   "id": "dd4fd21a",
   "metadata": {},
   "outputs": [],
   "source": [
    "os.environ[\"JAVA_HOME\"] = \"/usr/lib/jvm/java-11-openjdk-amd64\"\n",
    "os.environ[\"HADOOP_INSTALL\"] = \"/home/hadoop/hadoop\"\n",
    "os.environ[\"HADOOP_HOME\"] = os.environ[\"HADOOP_INSTALL\"]\n",
    "os.environ[\"HADOOP_MAPRED_HOME\"] = os.environ[\"HADOOP_INSTALL\"]\n",
    "os.environ[\"HADOOP_COMMON_HOME\"] = os.environ[\"HADOOP_INSTALL\"]\n",
    "os.environ[\"HADOOP_HDFS_HOME\"] = os.environ[\"HADOOP_INSTALL\"]\n",
    "os.environ[\"HADOOP_YARN_HOME\"] = os.environ[\"HADOOP_INSTALL\"]\n",
    "os.environ[\"HADOOP_CONF_DIR\"] = os.path.join(os.environ[\"HADOOP_INSTALL\"], \"/etc/hadoop\")\n",
    "os.environ[\"SPARK_HOME\"] = \"/home/hadoop/spark\"\n",
    "sys.path.insert(0, os.path.join(os.environ[\"SPARK_HOME\"], \"python\"))\n",
    "sys.path.append(os.path.join(os.environ[\"SPARK_HOME\"], \"python/lib/py4j-0.10.9.2-src.zip\"))"
   ]
  },
  {
   "cell_type": "code",
   "execution_count": 4,
   "id": "97ba2571",
   "metadata": {},
   "outputs": [
    {
     "name": "stderr",
     "output_type": "stream",
     "text": [
      "2023-10-07 20:20:32,614 WARN util.Utils: Your hostname, cloud resolves to a loopback address: 127.0.2.1; using 192.168.121.62 instead (on interface eth0)\n",
      "2023-10-07 20:20:32,616 WARN util.Utils: Set SPARK_LOCAL_IP if you need to bind to another address\n",
      "WARNING: An illegal reflective access operation has occurred\n",
      "WARNING: Illegal reflective access by org.apache.spark.unsafe.Platform (file:/home/hadoop/spark-3.2.0-bin-hadoop3.2/jars/spark-unsafe_2.12-3.2.0.jar) to constructor java.nio.DirectByteBuffer(long,int)\n",
      "WARNING: Please consider reporting this to the maintainers of org.apache.spark.unsafe.Platform\n",
      "WARNING: Use --illegal-access=warn to enable warnings of further illegal reflective access operations\n",
      "WARNING: All illegal access operations will be denied in a future release\n",
      "Setting default log level to \"WARN\".\n",
      "To adjust logging level use sc.setLogLevel(newLevel). For SparkR, use setLogLevel(newLevel).\n",
      "2023-10-07 20:20:33,652 WARN util.NativeCodeLoader: Unable to load native-hadoop library for your platform... using builtin-java classes where applicable\n",
      "2023-10-07 20:20:35,021 WARN util.Utils: Service 'SparkUI' could not bind on port 4040. Attempting port 4041.\n",
      "2023-10-07 20:20:35,021 WARN util.Utils: Service 'SparkUI' could not bind on port 4041. Attempting port 4042.\n",
      "2023-10-07 20:20:35,022 WARN util.Utils: Service 'SparkUI' could not bind on port 4042. Attempting port 4043.\n"
     ]
    },
    {
     "name": "stdout",
     "output_type": "stream",
     "text": [
      "http://192.168.121.62:4043\n"
     ]
    }
   ],
   "source": [
    "from pyspark.sql import SparkSession\n",
    "spark = SparkSession.builder \\\n",
    "    .appName(\"HelloLines\") \\\n",
    "    .config(\"spark.executor.instances\", \"2\") \\\n",
    "    .config(\"spark.executor.cores\", \"2\") \\\n",
    "    .config(\"spark.executor.memory\", \"1024M\") \\\n",
    "    .getOrCreate()\n",
    "sc = spark.sparkContext\n",
    "print(sc.uiWebUrl)"
   ]
  },
  {
   "cell_type": "code",
   "execution_count": 5,
   "id": "5e47499e",
   "metadata": {},
   "outputs": [],
   "source": [
    "rdd = sc.textFile(\"hdfs:/datasets/spotify/tracks.json\")\n"
   ]
  },
  {
   "cell_type": "code",
   "execution_count": 6,
   "id": "cb26b0b2",
   "metadata": {},
   "outputs": [
    {
     "name": "stderr",
     "output_type": "stream",
     "text": [
      "                                                                                \r"
     ]
    }
   ],
   "source": [
    "rdd2 = rdd.map(lambda x: json.loads(x))\n",
    "dfp = rdd2.toDF()"
   ]
  },
  {
   "cell_type": "code",
   "execution_count": 15,
   "id": "11c0d38a",
   "metadata": {},
   "outputs": [
    {
     "name": "stderr",
     "output_type": "stream",
     "text": [
      "[Stage 11:======>          (9 + 4) / 24][Stage 12:>                (0 + 0) / 24]\r"
     ]
    }
   ],
   "source": [
    "if ('q1.csv' not in os.listdir('hdfs')):\n",
    "    min = dfp.agg({ 'duration_ms' : 'min' })\n",
    "    avg = dfp.agg({ 'duration_ms' : 'avg' })\n",
    "    max = dfp.agg({ 'duration_ms' : 'max' })\n",
    "    aggregates = min.join(avg)\n",
    "    aggregates = aggregates.join(max)\n",
    "    aggregates.write.csv('q1.csv')\n",
    "else:\n",
    "    aggregates = spark.read.csv('q1.csv')\n",
    "aggregates"
   ]
  },
  {
   "cell_type": "code",
   "execution_count": 12,
   "id": "94ad9d0d",
   "metadata": {},
   "outputs": [
    {
     "data": {
      "text/plain": [
       "DataFrame[min(duration_ms): bigint, avg(duration_ms): double, max(duration_ms): bigint]"
      ]
     },
     "metadata": {},
     "output_type": "display_data"
    }
   ],
   "source": [
    "display(aggregates)"
   ]
  }
 ],
 "metadata": {
  "kernelspec": {
   "display_name": "Python 3 (ipykernel)",
   "language": "python",
   "name": "python3"
  },
  "language_info": {
   "codemirror_mode": {
    "name": "ipython",
    "version": 3
   },
   "file_extension": ".py",
   "mimetype": "text/x-python",
   "name": "python",
   "nbconvert_exporter": "python",
   "pygments_lexer": "ipython3",
   "version": "3.9.2"
  }
 },
 "nbformat": 4,
 "nbformat_minor": 5
}
